{
  "nbformat": 4,
  "nbformat_minor": 0,
  "metadata": {
    "colab": {
      "provenance": [],
      "authorship_tag": "ABX9TyMJZNBKZJ7BlnyMoCCWLpsz",
      "include_colab_link": true
    },
    "kernelspec": {
      "name": "python3",
      "display_name": "Python 3"
    },
    "language_info": {
      "name": "python"
    }
  },
  "cells": [
    {
      "cell_type": "markdown",
      "metadata": {
        "id": "view-in-github",
        "colab_type": "text"
      },
      "source": [
        "<a href=\"https://colab.research.google.com/github/neha666-1/Online-Reservation-System/blob/main/Number%20Guessing%20Game.ipynb\" target=\"_parent\"><img src=\"https://colab.research.google.com/assets/colab-badge.svg\" alt=\"Open In Colab\"/></a>"
      ]
    },
    {
      "cell_type": "code",
      "execution_count": null,
      "metadata": {
        "id": "-QS3GgLrDhZY"
      },
      "outputs": [],
      "source": [
        "import java.util.Scanner;\n",
        "import java.util.Random;\n",
        "\n",
        "public class GuessTheNumber {\n",
        "    public static void main(String[] args) {\n",
        "        Scanner scanner = new Scanner(System.in);\n",
        "        Random random = new Random();\n",
        "\n",
        "        int min = 1;\n",
        "        int max = 100;\n",
        "        int attempts = 5;\n",
        "        int score = 0;\n",
        "\n",
        "        System.out.println(\"Welcome to Guess the Number!\");\n",
        "        System.out.println(\"I'm thinking of a number between \" + min + \" and \" + max);\n",
        "\n",
        "        for (int round = 1; round <= 3; round++) {\n",
        "            System.out.println(\"\\nRound \" + round);\n",
        "\n",
        "            int secretNumber = random.nextInt(max - min + 1) + min;\n",
        "            int guesses = 0;\n",
        "\n",
        "            while (guesses < attempts) {\n",
        "                System.out.print(\"Enter your guess: \");\n",
        "                int guess = scanner.nextInt();\n",
        "                guesses++;\n",
        "\n",
        "                if (guess == secretNumber) {\n",
        "                    System.out.println(\"Congratulations! You guessed the number in \" + guesses + \" attempts.\");\n",
        "                    score += attempts - guesses + 1;\n",
        "                    break;\n",
        "                } else if (guess < secretNumber) {\n",
        "                    System.out.println(\"Your guess is too low.\");\n",
        "                } else {\n",
        "                    System.out.println(\"Your guess is too high.\");\n",
        "                }\n",
        "            }\n",
        "\n",
        "            if (guesses >= attempts) {\n",
        "                System.out.println(\"Sorry, you ran out of attempts. The secret number was \" + secretNumber);\n",
        "            }\n",
        "        }\n",
        "\n",
        "        System.out.println(\"\\nYour final score is \" + score);\n",
        "    }\n",
        "}"
      ]
    }
  ]
}